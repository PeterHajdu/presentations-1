{
 "cells": [
  {
   "cell_type": "markdown",
   "metadata": {
    "slideshow": {
     "slide_type": "slide"
    }
   },
   "source": [
    "# Error handling\n",
    "\n",
    "## part I."
   ]
  },
  {
   "cell_type": "markdown",
   "metadata": {
    "slideshow": {
     "slide_type": "slide"
    }
   },
   "source": [
    "We have seen previously how exceptions are thrown. Technically `throw` is an expression that has a result type `Nothing`. "
   ]
  },
  {
   "cell_type": "code",
   "execution_count": 1,
   "metadata": {
    "slideshow": {
     "slide_type": "fragment"
    }
   },
   "outputs": [
    {
     "name": "stdout",
     "output_type": "stream",
     "text": [
      "10\n"
     ]
    },
    {
     "ename": "",
     "evalue": "",
     "output_type": "error",
     "traceback": [
      "\u001b[31mjava.util.NoSuchElementException: No head element of an empty list\u001b[39m",
      "  $sess.cmd0Wrapper$Helper.head(\u001b[32mcmd0.sc\u001b[39m:\u001b[32m2\u001b[39m)",
      "  $sess.cmd0Wrapper$Helper.<init>(\u001b[32mcmd0.sc\u001b[39m:\u001b[32m9\u001b[39m)",
      "  $sess.cmd0Wrapper.<init>(\u001b[32mcmd0.sc\u001b[39m:\u001b[32m87\u001b[39m)",
      "  $sess.cmd0$.<init>(\u001b[32mcmd0.sc\u001b[39m:\u001b[32m60\u001b[39m)",
      "  $sess.cmd0$.<clinit>(\u001b[32mcmd0.sc\u001b[39m:\u001b[32m-1\u001b[39m)"
     ]
    }
   ],
   "source": [
    "def head[T](lst: List[T]): T = lst match {\n",
    "  case Nil => throw new NoSuchElementException(\"No head element of an empty list\")\n",
    "  case x :: _ => x\n",
    "}\n",
    "\n",
    "val lst = List[Int](10, 20)\n",
    "\n",
    "println(head(lst))\n",
    "println(head(List[Int]()))"
   ]
  },
  {
   "cell_type": "code",
   "execution_count": 8,
   "metadata": {
    "slideshow": {
     "slide_type": "slide"
    }
   },
   "outputs": [
    {
     "data": {
      "text/plain": [
       "defined \u001b[32mfunction\u001b[39m \u001b[36mstringToInt\u001b[39m"
      ]
     },
     "execution_count": 8,
     "metadata": {},
     "output_type": "execute_result"
    }
   ],
   "source": [
    "def stringToInt(s: String): Int = {\n",
    "  try {\n",
    "      s.toInt\n",
    "  } catch {\n",
    "      case f: java.io.FileNotFoundException => throw new Exception(\"File not found.\")\n",
    "      case e: java.lang.NumberFormatException =>\n",
    "        throw new Exception(\"This string cannot be converted to a number.\")\n",
    "      case _ => throw new Exception(\"Some exception was thrown.\")\n",
    "  } finally {\n",
    "    println(\"Connection to database has been closed.\")\n",
    "    42\n",
    "  }\n",
    "}"
   ]
  },
  {
   "cell_type": "code",
   "execution_count": 9,
   "metadata": {
    "slideshow": {
     "slide_type": "fragment"
    }
   },
   "outputs": [
    {
     "name": "stdout",
     "output_type": "stream",
     "text": [
      "Connection to database has been closed.\n",
      "123\n",
      "\n",
      "Connection to database has been closed.\n"
     ]
    },
    {
     "ename": "",
     "evalue": "",
     "output_type": "error",
     "traceback": [
      "\u001b[31mjava.lang.Exception: This string cannot be converted to a number.\u001b[39m",
      "  $sess.cmd7Wrapper$Helper.stringToInt(\u001b[32mcmd7.sc\u001b[39m:\u001b[32m7\u001b[39m)",
      "  $sess.cmd8Wrapper$Helper.<init>(\u001b[32mcmd8.sc\u001b[39m:\u001b[32m3\u001b[39m)",
      "  $sess.cmd8Wrapper.<init>(\u001b[32mcmd8.sc\u001b[39m:\u001b[32m89\u001b[39m)",
      "  $sess.cmd8$.<init>(\u001b[32mcmd8.sc\u001b[39m:\u001b[32m63\u001b[39m)",
      "  $sess.cmd8$.<clinit>(\u001b[32mcmd8.sc\u001b[39m:\u001b[32m-1\u001b[39m)"
     ]
    }
   ],
   "source": [
    "println(stringToInt(\"00123\"))\n",
    "println()\n",
    "println(stringToInt(\"Hello\"))"
   ]
  },
  {
   "cell_type": "markdown",
   "metadata": {
    "slideshow": {
     "slide_type": "slide"
    }
   },
   "source": [
    "Warning: do not use `return` statement in a `finally` clause! By the way, do not use `return` at all."
   ]
  },
  {
   "cell_type": "code",
   "execution_count": 10,
   "metadata": {
    "slideshow": {
     "slide_type": "fragment"
    }
   },
   "outputs": [
    {
     "name": "stdout",
     "output_type": "stream",
     "text": [
      "1\n",
      "42\n"
     ]
    },
    {
     "data": {
      "text/plain": [
       "defined \u001b[32mfunction\u001b[39m \u001b[36mmyFunc1\u001b[39m\n",
       "defined \u001b[32mfunction\u001b[39m \u001b[36mmyFunc2\u001b[39m"
      ]
     },
     "execution_count": 10,
     "metadata": {},
     "output_type": "execute_result"
    }
   ],
   "source": [
    "def myFunc1(): Int = {\n",
    "  try { 1 }\n",
    "  finally { 42 }\n",
    "}\n",
    "\n",
    "def myFunc2(): Int = {\n",
    "  try { return 1 }\n",
    "  finally { return 42 }\n",
    "}\n",
    "\n",
    "println(myFunc1())\n",
    "println(myFunc2())"
   ]
  },
  {
   "cell_type": "markdown",
   "metadata": {
    "slideshow": {
     "slide_type": "slide"
    }
   },
   "source": [
    "### Error handling without exceptions"
   ]
  },
  {
   "cell_type": "markdown",
   "metadata": {
    "slideshow": {
     "slide_type": "subslide"
    }
   },
   "source": [
    "Since exceptions are not type safe, let's catch exceptions at type level! Scala has several container types that are able to store a value that we might have failed to compute.\n",
    "\n",
    "* Option\n",
    "* Either\n",
    "* Try\n",
    "\n",
    "The real power of these container types that all the usual higher order functions defined on them making chain of computations **seamless** even if something in the middle has failed."
   ]
  },
  {
   "cell_type": "markdown",
   "metadata": {
    "slideshow": {
     "slide_type": "slide"
    }
   },
   "source": [
    "The `Option` data type replaces the following pattern:\n",
    "\n",
    "```python\n",
    "def my_python_func(x):\n",
    "    if not condition(x):\n",
    "        return None\n",
    "    y = do_computation(x)\n",
    "    return y\n",
    "```"
   ]
  },
  {
   "cell_type": "markdown",
   "metadata": {
    "slideshow": {
     "slide_type": "fragment"
    }
   },
   "source": [
    "```scala\n",
    "sealed trait Option[+A]\n",
    "case class Some[+A](get: A) extends Option[A]\n",
    "case object None extends Option[Nothing]\n",
    "```"
   ]
  },
  {
   "cell_type": "code",
   "execution_count": 11,
   "metadata": {
    "slideshow": {
     "slide_type": "slide"
    }
   },
   "outputs": [
    {
     "data": {
      "text/plain": [
       "defined \u001b[32mfunction\u001b[39m \u001b[36mmean\u001b[39m"
      ]
     },
     "execution_count": 11,
     "metadata": {},
     "output_type": "execute_result"
    }
   ],
   "source": [
    "def mean(xs: List[Double]): Option[Double] = xs match {\n",
    "  case Nil => None\n",
    "  case _ => Some(xs.sum / xs.length)\n",
    "}"
   ]
  },
  {
   "cell_type": "code",
   "execution_count": 12,
   "metadata": {
    "slideshow": {
     "slide_type": "fragment"
    }
   },
   "outputs": [
    {
     "name": "stdout",
     "output_type": "stream",
     "text": [
      "The mean is 2.0\n"
     ]
    },
    {
     "data": {
      "text/plain": [
       "\u001b[36mlst\u001b[39m: \u001b[32mList\u001b[39m[\u001b[32mDouble\u001b[39m] = \u001b[33mList\u001b[39m(\u001b[32m1.0\u001b[39m, \u001b[32m2.0\u001b[39m, \u001b[32m3.0\u001b[39m)"
      ]
     },
     "execution_count": 12,
     "metadata": {},
     "output_type": "execute_result"
    }
   ],
   "source": [
    "val lst = List(1.0, 2.0, 3.0)\n",
    "\n",
    "mean(lst) match {\n",
    "  case None => println(\"mean of empty list is not defined\")\n",
    "  case Some(m) => println(s\"The mean is $m\")\n",
    "}"
   ]
  },
  {
   "cell_type": "markdown",
   "metadata": {
    "slideshow": {
     "slide_type": "slide"
    }
   },
   "source": [
    "Option is often the return type of a method defined on collections."
   ]
  },
  {
   "cell_type": "code",
   "execution_count": 13,
   "metadata": {
    "slideshow": {
     "slide_type": "fragment"
    }
   },
   "outputs": [
    {
     "name": "stdout",
     "output_type": "stream",
     "text": [
      "Some(8)\n",
      "false\n",
      "true\n",
      "Some(1)\n"
     ]
    },
    {
     "data": {
      "text/plain": [
       "\u001b[36mlst\u001b[39m: \u001b[32mList\u001b[39m[\u001b[32mInt\u001b[39m] = \u001b[33mList\u001b[39m(\u001b[32m1\u001b[39m, \u001b[32m3\u001b[39m, \u001b[32m5\u001b[39m, \u001b[32m8\u001b[39m, \u001b[32m9\u001b[39m)\n",
       "\u001b[36mfirstEvenElem\u001b[39m: \u001b[32mOption\u001b[39m[\u001b[32mInt\u001b[39m] = \u001b[33mSome\u001b[39m(\u001b[32m8\u001b[39m)\n",
       "\u001b[36mm\u001b[39m: \u001b[32mMap\u001b[39m[\u001b[32mString\u001b[39m, \u001b[32mInt\u001b[39m] = \u001b[33mMap\u001b[39m(\u001b[32m\"a\"\u001b[39m -> \u001b[32m1\u001b[39m, \u001b[32m\"b\"\u001b[39m -> \u001b[32m2\u001b[39m)"
      ]
     },
     "execution_count": 13,
     "metadata": {},
     "output_type": "execute_result"
    }
   ],
   "source": [
    "val lst: List[Int] = List(1, 3, 5, 8, 9)\n",
    "val firstEvenElem: Option[Int] = lst.find(_ % 2 == 0)\n",
    "\n",
    "println(firstEvenElem)\n",
    "println(firstEvenElem.isEmpty)\n",
    "println(firstEvenElem.nonEmpty)\n",
    "\n",
    "val m: Map[String, Int] = Map(\"a\" -> 1, \"b\" -> 2)\n",
    "println(m.get(\"a\"))"
   ]
  },
  {
   "cell_type": "code",
   "execution_count": 14,
   "metadata": {
    "slideshow": {
     "slide_type": "slide"
    }
   },
   "outputs": [
    {
     "data": {
      "text/plain": [
       "defined \u001b[32mclass\u001b[39m \u001b[36mUser\u001b[39m\n",
       "\u001b[36musers\u001b[39m: \u001b[32mList\u001b[39m[\u001b[32mUser\u001b[39m] = \u001b[33mList\u001b[39m(\n",
       "  \u001b[33mUser\u001b[39m(\u001b[32m1\u001b[39m, \u001b[32m\"Adam\"\u001b[39m, None),\n",
       "  \u001b[33mUser\u001b[39m(\u001b[32m2\u001b[39m, \u001b[32m\"Joe\"\u001b[39m, \u001b[33mSome\u001b[39m(\u001b[32m40\u001b[39m)),\n",
       "  \u001b[33mUser\u001b[39m(\u001b[32m3\u001b[39m, \u001b[32m\"Jeff\"\u001b[39m, \u001b[33mSome\u001b[39m(\u001b[32m70\u001b[39m)),\n",
       "  \u001b[33mUser\u001b[39m(\u001b[32m9\u001b[39m, \u001b[32m\"Sarah\"\u001b[39m, None),\n",
       "  \u001b[33mUser\u001b[39m(\u001b[32m10\u001b[39m, \u001b[32m\"Bill\"\u001b[39m, \u001b[33mSome\u001b[39m(\u001b[32m120\u001b[39m)),\n",
       "  \u001b[33mUser\u001b[39m(\u001b[32m12\u001b[39m, \u001b[32m\"Ivan\"\u001b[39m, \u001b[33mSome\u001b[39m(\u001b[32m32\u001b[39m))\n",
       ")"
      ]
     },
     "execution_count": 14,
     "metadata": {},
     "output_type": "execute_result"
    }
   ],
   "source": [
    "case class User(id: Int, name: String, age: Option[Int])\n",
    "\n",
    "val users: List[User] =\n",
    "  List(\n",
    "    User(1, \"Adam\", None),\n",
    "    User(2, \"Joe\", Some(40)),\n",
    "    User(3, \"Jeff\", Some(70)),\n",
    "    User(9, \"Sarah\", None),\n",
    "    User(10, \"Bill\", Some(120)),\n",
    "    User(12, \"Ivan\", Some(32))\n",
    "  )"
   ]
  },
  {
   "cell_type": "markdown",
   "metadata": {
    "slideshow": {
     "slide_type": "slide"
    }
   },
   "source": [
    "In the list above there are users with incorrect age attribute.\n",
    "\n",
    "Write a function called ```halfAge(users: List[User], id: Int): Option[Int]``` which receives an input ```id```, finds the user with that ```id``` in the list, and returns an optional age value which is one half of its original value.\n",
    "\n",
    "For example, the expected output in the following cases are:\n",
    "```scala\n",
    "halfAge(users, 2) => Some(20)\n",
    "halfAge(users, 4) => None  // there is no user with that id\n",
    "halfAge(users, 9) => None  // there is no age for that user\n",
    "```"
   ]
  },
  {
   "cell_type": "markdown",
   "metadata": {
    "slideshow": {
     "slide_type": "slide"
    }
   },
   "source": [
    "The are some worse solutions than the worst one:"
   ]
  },
  {
   "cell_type": "code",
   "execution_count": 15,
   "metadata": {
    "slideshow": {
     "slide_type": "fragment"
    }
   },
   "outputs": [
    {
     "data": {
      "text/plain": [
       "defined \u001b[32mtype\u001b[39m \u001b[36mAge\u001b[39m\n",
       "defined \u001b[32mfunction\u001b[39m \u001b[36mhalfAge\u001b[39m"
      ]
     },
     "execution_count": 15,
     "metadata": {},
     "output_type": "execute_result"
    }
   ],
   "source": [
    "type Age = Int\n",
    "\n",
    "def halfAge(users: List[User], id: Int): Option[Age] = {\n",
    "  val optionalUser: Option[User] = users.find(_.id == id)\n",
    "  if (optionalUser.isEmpty) None\n",
    "  else {\n",
    "    val foundUser: User = optionalUser.get\n",
    "    val optionalAge: Option[Int] = foundUser.age\n",
    "    if (optionalAge.isEmpty) None\n",
    "    else {\n",
    "      val age: Int = optionalAge.get\n",
    "      Some(age / 2)\n",
    "    }\n",
    "  }\n",
    "}"
   ]
  },
  {
   "cell_type": "code",
   "execution_count": 16,
   "metadata": {
    "slideshow": {
     "slide_type": "fragment"
    }
   },
   "outputs": [
    {
     "name": "stdout",
     "output_type": "stream",
     "text": [
      "Some(20)\n",
      "None\n",
      "None\n"
     ]
    }
   ],
   "source": [
    "println(halfAge(users, 2))\n",
    "println(halfAge(users, 4))\n",
    "println(halfAge(users, 9))"
   ]
  },
  {
   "cell_type": "markdown",
   "metadata": {
    "slideshow": {
     "slide_type": "slide"
    }
   },
   "source": [
    "A better solution is to use pattern matching. Nevertheless, by writing code like these, I am sure that you know what ```Option```s are but you have know idea how to use them at all."
   ]
  },
  {
   "cell_type": "code",
   "execution_count": 17,
   "metadata": {
    "slideshow": {
     "slide_type": "fragment"
    }
   },
   "outputs": [
    {
     "data": {
      "text/plain": [
       "defined \u001b[32mfunction\u001b[39m \u001b[36mhalfAge\u001b[39m"
      ]
     },
     "execution_count": 17,
     "metadata": {},
     "output_type": "execute_result"
    }
   ],
   "source": [
    "def halfAge(users: List[User], id: Int): Option[Age] =\n",
    "  users.find(_.id == id) match {\n",
    "    case None => None\n",
    "    case Some(user) =>\n",
    "      user.age match {\n",
    "        case None => None\n",
    "        case Some(ageValue) => Some(ageValue/2)\n",
    "      }\n",
    "  }"
   ]
  },
  {
   "cell_type": "code",
   "execution_count": 18,
   "metadata": {
    "slideshow": {
     "slide_type": "fragment"
    }
   },
   "outputs": [
    {
     "name": "stdout",
     "output_type": "stream",
     "text": [
      "Some(20)\n",
      "None\n",
      "None\n"
     ]
    }
   ],
   "source": [
    "println(halfAge(users, 2))\n",
    "println(halfAge(users, 4))\n",
    "println(halfAge(users, 9))"
   ]
  },
  {
   "cell_type": "markdown",
   "metadata": {
    "slideshow": {
     "slide_type": "slide"
    }
   },
   "source": [
    "How to write better code? There are higher order functions defined on the ```Option``` trait, like the ones below:\n",
    "\n",
    "```scala\n",
    "trait Option[+A] {\n",
    "  def map[B](f: A => B): Option[B]\n",
    "  \n",
    "  def flatMap[B](f: A => Option[B]): Option[B]\n",
    "  \n",
    "  def filter(p: A => Boolean): Option[A]  \n",
    "}\n",
    "```"
   ]
  },
  {
   "cell_type": "code",
   "execution_count": 19,
   "metadata": {
    "slideshow": {
     "slide_type": "slide"
    }
   },
   "outputs": [
    {
     "data": {
      "text/plain": [
       "defined \u001b[32mfunction\u001b[39m \u001b[36mhalfAge\u001b[39m"
      ]
     },
     "execution_count": 19,
     "metadata": {},
     "output_type": "execute_result"
    }
   ],
   "source": [
    "def halfAge(users: List[User], id: Int): Option[Age] =\n",
    "  users\n",
    "    .find(_.id == id)\n",
    "    .flatMap(_.age)\n",
    "    .map(_ / 2)"
   ]
  },
  {
   "cell_type": "code",
   "execution_count": 20,
   "metadata": {
    "slideshow": {
     "slide_type": "fragment"
    }
   },
   "outputs": [
    {
     "name": "stdout",
     "output_type": "stream",
     "text": [
      "Some(20)\n",
      "None\n",
      "None\n"
     ]
    }
   ],
   "source": [
    "println(halfAge(users, 2))\n",
    "println(halfAge(users, 4))\n",
    "println(halfAge(users, 9))"
   ]
  },
  {
   "cell_type": "code",
   "execution_count": 21,
   "metadata": {
    "slideshow": {
     "slide_type": "slide"
    }
   },
   "outputs": [
    {
     "data": {
      "text/plain": [
       "defined \u001b[32mfunction\u001b[39m \u001b[36mhalfAge\u001b[39m"
      ]
     },
     "execution_count": 21,
     "metadata": {},
     "output_type": "execute_result"
    }
   ],
   "source": [
    "def halfAge(users: List[User], id: Int): Option[Age] =\n",
    "  for {\n",
    "    user <- users.find(_.id == id)\n",
    "    age <- user.age\n",
    "    } yield age / 2"
   ]
  },
  {
   "cell_type": "code",
   "execution_count": 22,
   "metadata": {
    "slideshow": {
     "slide_type": "fragment"
    }
   },
   "outputs": [
    {
     "name": "stdout",
     "output_type": "stream",
     "text": [
      "Some(20)\n",
      "None\n",
      "None\n"
     ]
    }
   ],
   "source": [
    "println(halfAge(users, 2))\n",
    "println(halfAge(users, 4))\n",
    "println(halfAge(users, 9))"
   ]
  }
 ],
 "metadata": {
  "celltoolbar": "Slideshow",
  "kernelspec": {
   "display_name": "Scala",
   "language": "scala",
   "name": "scala"
  },
  "language_info": {
   "codemirror_mode": "text/x-scala",
   "file_extension": ".scala",
   "mimetype": "text/x-scala",
   "name": "scala211",
   "nbconvert_exporter": "script",
   "pygments_lexer": "scala",
   "version": "2.11.11"
  }
 },
 "nbformat": 4,
 "nbformat_minor": 2
}
