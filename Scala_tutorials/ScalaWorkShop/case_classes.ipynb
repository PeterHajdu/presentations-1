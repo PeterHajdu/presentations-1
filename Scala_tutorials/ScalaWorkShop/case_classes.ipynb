{
 "cells": [
  {
   "cell_type": "markdown",
   "metadata": {
    "slideshow": {
     "slide_type": "slide"
    }
   },
   "source": [
    "## Case classes and pattern matching"
   ]
  },
  {
   "cell_type": "markdown",
   "metadata": {
    "slideshow": {
     "slide_type": "slide"
    }
   },
   "source": [
    "### Case classes versus ordinary classes\n",
    "\n",
    "* what are case classes\n",
    "* what are they good for"
   ]
  },
  {
   "cell_type": "code",
   "execution_count": 1,
   "metadata": {
    "slideshow": {
     "slide_type": "slide"
    }
   },
   "outputs": [
    {
     "data": {
      "text/plain": [
       "defined \u001b[32mclass\u001b[39m \u001b[36mPerson\u001b[39m\n",
       "defined \u001b[32mobject\u001b[39m \u001b[36mPerson\u001b[39m"
      ]
     },
     "execution_count": 1,
     "metadata": {},
     "output_type": "execute_result"
    }
   ],
   "source": [
    "class Person(val name: String, age: Int, socialSecurityNumber: Long) {\n",
    "  import Person._\n",
    "    \n",
    "  val isPensioner: Boolean = age >= 65\n",
    "    \n",
    "  lazy val hasValidSSN: Boolean = longLastingQueryOfDatabase(socialSecurityNumber)\n",
    "}\n",
    "\n",
    "object Person {\n",
    "  def longLastingQueryOfDatabase(ssn: Long): Boolean = {\n",
    "    // insert long code here\n",
    "    ???\n",
    "  }\n",
    "}"
   ]
  },
  {
   "cell_type": "code",
   "execution_count": 2,
   "metadata": {
    "slideshow": {
     "slide_type": "fragment"
    }
   },
   "outputs": [
    {
     "name": "stdout",
     "output_type": "stream",
     "text": [
      "$sess.cmd0Wrapper$Helper$Person@7f53ad04\n",
      "false\n",
      "2\n"
     ]
    },
    {
     "data": {
      "text/plain": [
       "\u001b[36mp1\u001b[39m: \u001b[32mPerson\u001b[39m = $sess.cmd0Wrapper$Helper$Person@7f53ad04\n",
       "\u001b[36mp2\u001b[39m: \u001b[32mPerson\u001b[39m = $sess.cmd0Wrapper$Helper$Person@60c1248c"
      ]
     },
     "execution_count": 2,
     "metadata": {},
     "output_type": "execute_result"
    }
   ],
   "source": [
    "val p1 = new Person(\"John\", 50, 123456789L)\n",
    "val p2 = new Person(\"John\", 50, 123456789L)\n",
    "println(p1)\n",
    "println(p2 == p1)\n",
    "println(Set(p1, p2).size)"
   ]
  },
  {
   "cell_type": "code",
   "execution_count": 3,
   "metadata": {
    "slideshow": {
     "slide_type": "slide"
    }
   },
   "outputs": [
    {
     "data": {
      "text/plain": [
       "defined \u001b[32mclass\u001b[39m \u001b[36mPerson\u001b[39m\n",
       "defined \u001b[32mobject\u001b[39m \u001b[36mPerson\u001b[39m"
      ]
     },
     "execution_count": 3,
     "metadata": {},
     "output_type": "execute_result"
    }
   ],
   "source": [
    "case class Person(name: String, age: Int, socialSecurityNumber: Long) {\n",
    "  import Person._\n",
    "    \n",
    "  val isPensioner: Boolean = age >= 65\n",
    "    \n",
    "  lazy val isValidSSN: Boolean = longLastringQueryOfDatabase(socialSecurityNumber)\n",
    "}\n",
    "\n",
    "object Person {\n",
    "  def longLastringQueryOfDatabase(ssn: Long): Boolean = ???\n",
    "}"
   ]
  },
  {
   "cell_type": "code",
   "execution_count": 4,
   "metadata": {
    "slideshow": {
     "slide_type": "fragment"
    }
   },
   "outputs": [
    {
     "name": "stdout",
     "output_type": "stream",
     "text": [
      "Person(John,50,123456789)\n",
      "true\n",
      "1\n"
     ]
    },
    {
     "data": {
      "text/plain": [
       "\u001b[36mp1\u001b[39m: \u001b[32mPerson\u001b[39m = \u001b[33mPerson\u001b[39m(\u001b[32m\"John\"\u001b[39m, \u001b[32m50\u001b[39m, \u001b[32m123456789L\u001b[39m)\n",
       "\u001b[36mp2\u001b[39m: \u001b[32mPerson\u001b[39m = \u001b[33mPerson\u001b[39m(\u001b[32m\"John\"\u001b[39m, \u001b[32m50\u001b[39m, \u001b[32m123456789L\u001b[39m)"
      ]
     },
     "execution_count": 4,
     "metadata": {},
     "output_type": "execute_result"
    }
   ],
   "source": [
    "val p1 = Person(\"John\", 50, 123456789L)\n",
    "val p2 = Person(name = \"John\", age = 50, socialSecurityNumber = 123456789L)\n",
    "println(p1)\n",
    "println(p1 == p2)\n",
    "println(Set(p1, p2).size)"
   ]
  },
  {
   "cell_type": "markdown",
   "metadata": {
    "collapsed": true,
    "slideshow": {
     "slide_type": "slide"
    }
   },
   "source": [
    "Case classes can be seen as immutable data-storing objects that  depend on their constructor arguments only. Those arguments are automatically become fields / methods of the class.\n",
    "\n",
    "This functional concept allows us to\n",
    "* use a compact initialisation syntax (without the `new` keyword)\n",
    "* decompose them using **pattern matching**\n",
    "* have equality comparisons and toString method defined\n",
    "\n",
    "If a class performs stateful computations inside or exhibits other kinds of complex behaviour, it should be an ordinary class."
   ]
  },
  {
   "cell_type": "code",
   "execution_count": 5,
   "metadata": {
    "slideshow": {
     "slide_type": "slide"
    }
   },
   "outputs": [
    {
     "data": {
      "text/plain": [
       "defined \u001b[32mclass\u001b[39m \u001b[36mTree\u001b[39m\n",
       "defined \u001b[32mclass\u001b[39m \u001b[36mNode\u001b[39m\n",
       "defined \u001b[32mobject\u001b[39m \u001b[36mEmpty\u001b[39m"
      ]
     },
     "execution_count": 5,
     "metadata": {},
     "output_type": "execute_result"
    }
   ],
   "source": [
    "sealed abstract class Tree {\n",
    "  def isEmpty: Boolean\n",
    "}\n",
    "\n",
    "case class Node(value: Int, left: Tree, right: Tree) extends Tree {\n",
    "  def isEmpty: Boolean = false\n",
    "  \n",
    "  override def toString: String = value + left.toString + right.toString // preorder traversal\n",
    "}\n",
    "\n",
    "case object Empty extends Tree {\n",
    "  def isEmpty: Boolean = true\n",
    "  \n",
    "  override def toString: String = \".\"\n",
    "}"
   ]
  },
  {
   "cell_type": "code",
   "execution_count": 6,
   "metadata": {
    "slideshow": {
     "slide_type": "fragment"
    }
   },
   "outputs": [
    {
     "name": "stdout",
     "output_type": "stream",
     "text": [
      "541..2..6..\n"
     ]
    },
    {
     "data": {
      "text/plain": [
       "\u001b[36mmyTree\u001b[39m: \u001b[32mTree\u001b[39m = 541..2..6.."
      ]
     },
     "execution_count": 6,
     "metadata": {},
     "output_type": "execute_result"
    }
   ],
   "source": [
    "val myTree: Tree = Node(5, \n",
    "                        Node(4, \n",
    "                             Node(1, Empty, Empty), \n",
    "                             Node(2, Empty, Empty)), \n",
    "                        Node(6, Empty, Empty))\n",
    "println(myTree)"
   ]
  },
  {
   "cell_type": "markdown",
   "metadata": {
    "slideshow": {
     "slide_type": "slide"
    }
   },
   "source": [
    "### Pattern matching\n",
    "\n",
    "* syntax: selector `match` { alternatives }\n",
    "* match is a `switch` on steroids\n",
    "* match is an expression, that is, it always results in a value\n",
    "* it does not fall-through\n",
    "* if none of the alternatives match, an MatchError exception will be thrown"
   ]
  },
  {
   "cell_type": "markdown",
   "metadata": {
    "slideshow": {
     "slide_type": "slide"
    }
   },
   "source": [
    "#### Constant patterns\n",
    "\n",
    "Any literal can be used as a pattern. A constant pattern matches only with itself."
   ]
  },
  {
   "cell_type": "code",
   "execution_count": 7,
   "metadata": {
    "slideshow": {
     "slide_type": "fragment"
    }
   },
   "outputs": [
    {
     "data": {
      "text/plain": [
       "defined \u001b[32mfunction\u001b[39m \u001b[36mwriteOutNumbers\u001b[39m"
      ]
     },
     "execution_count": 7,
     "metadata": {},
     "output_type": "execute_result"
    }
   ],
   "source": [
    "def writeOutNumbers(x: Int): String = x match {\n",
    "  case 0 => \"zero\"\n",
    "  case 1 => \"one\"\n",
    "  case 2 => \"two\"\n",
    "  case _ => \"many (or maybe negative?)\"  // wildcard pattern\n",
    "}"
   ]
  },
  {
   "cell_type": "code",
   "execution_count": 8,
   "metadata": {
    "slideshow": {
     "slide_type": "fragment"
    }
   },
   "outputs": [
    {
     "name": "stdout",
     "output_type": "stream",
     "text": [
      "one\n",
      "many (or maybe negative?)\n"
     ]
    }
   ],
   "source": [
    "println(writeOutNumbers(1))\n",
    "println(writeOutNumbers(-3))"
   ]
  },
  {
   "cell_type": "markdown",
   "metadata": {
    "slideshow": {
     "slide_type": "slide"
    }
   },
   "source": [
    "#### Variable patterns\n",
    "\n",
    "A variable pattern matches with any object, just like a wildcard!"
   ]
  },
  {
   "cell_type": "code",
   "execution_count": 9,
   "metadata": {
    "slideshow": {
     "slide_type": "fragment"
    }
   },
   "outputs": [
    {
     "name": "stdout",
     "output_type": "stream",
     "text": [
      "You have made a mistake\n"
     ]
    },
    {
     "data": {
      "text/plain": [
       "\u001b[36mhello\u001b[39m: \u001b[32mString\u001b[39m = \u001b[32m\"Hello\"\u001b[39m\n",
       "\u001b[36mahoy\u001b[39m: \u001b[32mString\u001b[39m = \u001b[32m\"Ahoy\"\u001b[39m"
      ]
     },
     "execution_count": 9,
     "metadata": {},
     "output_type": "execute_result"
    }
   ],
   "source": [
    "val hello: String = \"Hello\"\n",
    "val ahoy: String = \"Ahoy\"\n",
    "\n",
    "\"Ahoy\" match {\n",
    "  case hello => println(\"You have made a mistake\")\n",
    "  case ahoy => println(\"Yes, it is\")\n",
    "  case _ => println(\"no idea what's going on\")\n",
    "}"
   ]
  },
  {
   "cell_type": "code",
   "execution_count": 10,
   "metadata": {
    "slideshow": {
     "slide_type": "fragment"
    }
   },
   "outputs": [
    {
     "name": "stdout",
     "output_type": "stream",
     "text": [
      "Yes, it is\n"
     ]
    }
   ],
   "source": [
    "\"Ahoy\" match {\n",
    "  case `hello` => println(\"You have made a mistake\")\n",
    "  case `ahoy` => println(\"Yes, it is\")\n",
    "  case _ => println(\"no idea what's going on\")\n",
    "}"
   ]
  },
  {
   "cell_type": "markdown",
   "metadata": {
    "slideshow": {
     "slide_type": "slide"
    }
   },
   "source": [
    "#### Constructor patterns\n",
    "\n",
    "This provides deep matches inside case classes.\n",
    "\n",
    "To show this, let's define a nested hierarchy of case classes and objects."
   ]
  },
  {
   "cell_type": "code",
   "execution_count": 11,
   "metadata": {
    "slideshow": {
     "slide_type": "fragment"
    }
   },
   "outputs": [
    {
     "data": {
      "text/plain": [
       "defined \u001b[32mclass\u001b[39m \u001b[36mProgrammingLanguage\u001b[39m\n",
       "defined \u001b[32mobject\u001b[39m \u001b[36mScala\u001b[39m\n",
       "defined \u001b[32mobject\u001b[39m \u001b[36mPython\u001b[39m\n",
       "defined \u001b[32mobject\u001b[39m \u001b[36mCOBOL\u001b[39m\n",
       "defined \u001b[32mobject\u001b[39m \u001b[36mHaskell\u001b[39m\n",
       "defined \u001b[32mobject\u001b[39m \u001b[36mClojure\u001b[39m"
      ]
     },
     "execution_count": 11,
     "metadata": {},
     "output_type": "execute_result"
    }
   ],
   "source": [
    "sealed abstract class ProgrammingLanguage\n",
    "case object Scala extends ProgrammingLanguage\n",
    "case object Python extends ProgrammingLanguage\n",
    "case object COBOL extends ProgrammingLanguage\n",
    "case object Haskell extends ProgrammingLanguage\n",
    "case object Clojure extends ProgrammingLanguage"
   ]
  },
  {
   "cell_type": "code",
   "execution_count": 12,
   "metadata": {
    "slideshow": {
     "slide_type": "slide"
    }
   },
   "outputs": [
    {
     "data": {
      "text/plain": [
       "defined \u001b[32mclass\u001b[39m \u001b[36mEmployee\u001b[39m\n",
       "defined \u001b[32mclass\u001b[39m \u001b[36mCEO\u001b[39m\n",
       "defined \u001b[32mclass\u001b[39m \u001b[36mEngineer\u001b[39m\n",
       "defined \u001b[32mclass\u001b[39m \u001b[36mTrainee\u001b[39m"
      ]
     },
     "execution_count": 12,
     "metadata": {},
     "output_type": "execute_result"
    }
   ],
   "source": [
    "sealed abstract class Employee {\n",
    "  val id: Int\n",
    "  val name: String\n",
    "  def greet: String = s\"Hello, $name!\"\n",
    "}\n",
    "\n",
    "case class CEO(id: Int, name: String, salary: Long) extends Employee {\n",
    "  override def greet: String = \"Yes, Master!\"\n",
    "}\n",
    "\n",
    "case class Engineer(id: Int,\n",
    "                    name: String,\n",
    "                    salary: Int,\n",
    "                    language: ProgrammingLanguage) extends Employee\n",
    "\n",
    "case class Trainee(id: Int, name: String, salary: Int, boss: Engineer) extends Employee {\n",
    "  override def greet: String = \"Hello, have you finished your task?\"\n",
    "}"
   ]
  },
  {
   "cell_type": "code",
   "execution_count": 13,
   "metadata": {
    "slideshow": {
     "slide_type": "slide"
    }
   },
   "outputs": [
    {
     "data": {
      "text/plain": [
       "\u001b[36mjoe\u001b[39m: \u001b[32mEngineer\u001b[39m = Engineer(11,Joe,60000,Haskell)\n",
       "\u001b[36mbill\u001b[39m: \u001b[32mEmployee\u001b[39m = Trainee(101,Bill,10000,Engineer(11,Joe,60000,Haskell))"
      ]
     },
     "execution_count": 13,
     "metadata": {},
     "output_type": "execute_result"
    }
   ],
   "source": [
    "val joe: Engineer = Engineer(id = 11, name = \"Joe\", salary = 60000, language = Haskell)\n",
    "val bill: Employee = Trainee(id = 101, name = \"Bill\", salary = 10000, boss = joe)"
   ]
  },
  {
   "cell_type": "code",
   "execution_count": 14,
   "metadata": {
    "slideshow": {
     "slide_type": "fragment"
    }
   },
   "outputs": [
    {
     "name": "stdout",
     "output_type": "stream",
     "text": [
      "Bill's boss knows Haskell!!\n"
     ]
    }
   ],
   "source": [
    "bill match {\n",
    "  case Trainee(_, \"Adam\", _, joe) => println(\"Bill is called Adam???\")\n",
    "  case Engineer(_, _, _, _) => println(\"Bill is an engineer???\") // there is a better way to match type\n",
    "  case Trainee(_, _, _, Engineer(_, _, _, Haskell)) => println(\"Bill's boss knows Haskell!!\")\n",
    "  case Trainee(_, \"Bill\", _, _) => println(\"Bill is Bill indeed.\")\n",
    "  case _ => println(\"No one knows who this guy is.\")\n",
    "}"
   ]
  },
  {
   "cell_type": "markdown",
   "metadata": {
    "slideshow": {
     "slide_type": "slide"
    }
   },
   "source": [
    "#### Other patterns\n",
    "\n",
    "* sequence patterns\n",
    "* typed patterns\n",
    "* variable binding inside a pattern match"
   ]
  },
  {
   "cell_type": "code",
   "execution_count": 15,
   "metadata": {
    "slideshow": {
     "slide_type": "slide"
    }
   },
   "outputs": [
    {
     "name": "stdout",
     "output_type": "stream",
     "text": [
      "The head element is 1\n",
      "The 3rd element is 3.\n"
     ]
    },
    {
     "data": {
      "text/plain": [
       "\u001b[36mlist\u001b[39m: \u001b[32mList\u001b[39m[\u001b[32mInt\u001b[39m] = \u001b[33mList\u001b[39m(\u001b[32m1\u001b[39m, \u001b[32m1\u001b[39m, \u001b[32m3\u001b[39m, \u001b[32m5\u001b[39m, \u001b[32m8\u001b[39m, \u001b[32m13\u001b[39m)"
      ]
     },
     "execution_count": 15,
     "metadata": {},
     "output_type": "execute_result"
    }
   ],
   "source": [
    "val list: List[Int] = List(1, 1, 3, 5, 8, 13)\n",
    "\n",
    "list match {\n",
    "  case Nil => println(\"The list is empty.\")\n",
    "  case x :: xs => println(s\"The head element is $x\")\n",
    "  // x :: xs means that the list has head element x and tail xs\n",
    "}\n",
    "\n",
    "list match {\n",
    "  case Nil => println(\"The list is empty.\")\n",
    "  case List(1, 2, 3, _*) => println(\"This list has length at least 3 starting with 1, 2 and 3.\")\n",
    "  case List(_, _, 3, _*) => println(\"The 3rd element is 3.\")\n",
    "  case _ => println(\"no match\")\n",
    "}"
   ]
  },
  {
   "cell_type": "code",
   "execution_count": 16,
   "metadata": {
    "slideshow": {
     "slide_type": "slide"
    }
   },
   "outputs": [
    {
     "name": "stdout",
     "output_type": "stream",
     "text": [
      "Bill is a trainee.\n"
     ]
    }
   ],
   "source": [
    "bill match {\n",
    "  case e: Engineer => println(\"Bill is an engineer?\")\n",
    "  case t: Trainee => println(\"Bill is a trainee.\")\n",
    "  case _ => println(\"Maybe he is the new CEO?\")\n",
    "}"
   ]
  },
  {
   "cell_type": "code",
   "execution_count": 17,
   "metadata": {
    "slideshow": {
     "slide_type": "slide"
    }
   },
   "outputs": [
    {
     "name": "stdout",
     "output_type": "stream",
     "text": [
      "Bill's boss is Engineer(11,Joe,60000,Haskell)!!\n"
     ]
    }
   ],
   "source": [
    "bill match {\n",
    "  case Trainee(_, \"Adam\", _, joe) => println(\"Bill is called Adam???\")\n",
    "  case Engineer(_, _, _, _) => println(\"Bill is an engineer???\") // there is a better way to match type\n",
    "  case Trainee(_, _, _, billsBoss @ Engineer(_, _, _, Haskell)) =>\n",
    "    println(s\"Bill's boss is $billsBoss!!\")\n",
    "  case Trainee(_, \"Bill\", _, _) => println(\"Bill is Bill indeed.\")\n",
    "  case _ => println(\"No one knows who this guy is.\")\n",
    "}"
   ]
  },
  {
   "cell_type": "markdown",
   "metadata": {
    "slideshow": {
     "slide_type": "slide"
    }
   },
   "source": [
    "#### Pattern matches everywhere"
   ]
  },
  {
   "cell_type": "code",
   "execution_count": null,
   "metadata": {
    "slideshow": {
     "slide_type": "fragment"
    }
   },
   "outputs": [],
   "source": [
    "val Trainee(id, _, amount, _) = bill\n",
    "println(id)\n",
    "println(amount)\n",
    "\n",
    "val (a: Int, b: Int) = (0, 1)\n",
    "println(a)\n",
    "println(b)\n",
    "\n",
    "// and the list goes on and on ..."
   ]
  },
  {
   "cell_type": "markdown",
   "metadata": {
    "slideshow": {
     "slide_type": "slide"
    }
   },
   "source": [
    "But there are patterns that cannot be matched. Scala has type erasure, no information about type arguments is maintained at runtime."
   ]
  },
  {
   "cell_type": "code",
   "execution_count": 19,
   "metadata": {
    "slideshow": {
     "slide_type": "fragment"
    }
   },
   "outputs": [
    {
     "name": "stdout",
     "output_type": "stream",
     "text": [
      "this is a StringList\n"
     ]
    },
    {
     "data": {
      "text/plain": [
       "\u001b[36mlst\u001b[39m: \u001b[32mList\u001b[39m[\u001b[32mInt\u001b[39m] = \u001b[33mList\u001b[39m(\u001b[32m1\u001b[39m, \u001b[32m2\u001b[39m, \u001b[32m5\u001b[39m, \u001b[32m8\u001b[39m)"
      ]
     },
     "execution_count": 19,
     "metadata": {},
     "output_type": "execute_result"
    }
   ],
   "source": [
    "val lst: List[Int] = List(1, 2, 5, 8)\n",
    "\n",
    "lst match {\n",
    "  case a: List[String] => println(\"this is a StringList\")\n",
    "  case b: List[Int] => println(\"this is an IntList\")\n",
    "}"
   ]
  }
 ],
 "metadata": {
  "celltoolbar": "Slideshow",
  "kernelspec": {
   "display_name": "Scala",
   "language": "scala",
   "name": "scala"
  },
  "language_info": {
   "codemirror_mode": "text/x-scala",
   "file_extension": ".scala",
   "mimetype": "text/x-scala",
   "name": "scala211",
   "nbconvert_exporter": "script",
   "pygments_lexer": "scala",
   "version": "2.11.11"
  }
 },
 "nbformat": 4,
 "nbformat_minor": 2
}
